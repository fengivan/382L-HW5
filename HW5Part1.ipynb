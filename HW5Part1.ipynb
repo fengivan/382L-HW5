{
  "nbformat": 4,
  "nbformat_minor": 0,
  "metadata": {
    "colab": {
      "name": "HW5Part1.ipynb",
      "provenance": [],
      "collapsed_sections": [],
      "authorship_tag": "ABX9TyOZrqntVnK+4r2vKD/N+fD2",
      "include_colab_link": true
    },
    "kernelspec": {
      "name": "python3",
      "display_name": "Python 3"
    },
    "language_info": {
      "name": "python"
    }
  },
  "cells": [
    {
      "cell_type": "markdown",
      "metadata": {
        "id": "view-in-github",
        "colab_type": "text"
      },
      "source": [
        "<a href=\"https://colab.research.google.com/github/fengivan/382L-HW5/blob/master/HW5Part1.ipynb\" target=\"_parent\"><img src=\"https://colab.research.google.com/assets/colab-badge.svg\" alt=\"Open In Colab\"/></a>"
      ]
    },
    {
      "cell_type": "code",
      "metadata": {
        "id": "WFKMckIMQkZi"
      },
      "source": [
        "import numpy as np\n",
        "np.set_printoptions(linewidth=np.inf)\n"
      ],
      "execution_count": null,
      "outputs": []
    },
    {
      "cell_type": "code",
      "metadata": {
        "id": "zGBt4ki9Q58E"
      },
      "source": [
        "#creating the test matrix\n",
        "\n",
        "I=np.identity(5)\n",
        "B=np.matrix([[-8,2,0,0,0],[1,-8,1,0,0],[0,1,-8,1,0],[0,0,1,-8,1],[0,0,0,1,-8]])\n",
        "Z=np.zeros((5,5))\n",
        "\n",
        "#vector of constants\n",
        "b=np.full((25,1), -1) \n",
        "\n",
        "matrix=np.concatenate((np.subtract(B, 1.5*I), 6*I,Z,Z,Z), axis=1)\n",
        "matrix=np.concatenate((matrix,np.concatenate((3*I, B, 3*I, Z,Z), axis=1)),axis=0)\n",
        "matrix=np.concatenate((matrix,np.concatenate((Z,3*I,B,3*I,Z),axis=1)),axis=0)\n",
        "matrix=np.concatenate((matrix,np.concatenate((Z,Z,3*I,B,3*I,),axis=1)),axis=0)\n",
        "matrix=np.concatenate((matrix,np.concatenate((Z,Z,Z,6*I,B),axis=1)),axis=0)\n",
        "\n",
        "print(\"matrix:\")\n",
        "print(matrix)\n",
        "print(\"b:\")\n",
        "print(b)"
      ],
      "execution_count": null,
      "outputs": []
    },
    {
      "cell_type": "code",
      "metadata": {
        "id": "4m921fu4qPck"
      },
      "source": [
        "#Because the main diagonal of this matrix is the largest element, no pivoting is needed\n",
        "#if pivoting is needed, PAx=b,  \n",
        "#matrix(row,column)\n",
        "\n",
        "\n",
        "def LU(A):                        #this function returns L and U, where A=LU\n",
        "  A = A.astype(float)\n",
        "  L=np.identity(len(A))\n",
        "\n",
        "  for i in range(0,len(A)):       #iterate through diagonal elements, starting at row/column 0\n",
        "    for j in range(i+1, len(A)):  #iterate through rows below i\n",
        "      if A[j,i]!=0:               #if the row does not have a leading 0, make it 0\n",
        "        ratio=-A[j,i]/A[i,i]      #figure out what fraction of the ith row you need to add to the jth row so that the jth row will have a leading 0\n",
        "        L[j,i]=-ratio             #keep track what you multiplied by in the L matrix\n",
        "        A[j]=A[j]+A[i]*ratio      #the jth row becomes the jth row plus (ith row* ratio). The jth row now has a leading 0\n",
        " \n",
        "  return L, A                     #at the end of this process, L is a lower triangular matrix, and A has been changed to an upper triangular matrix.\n",
        "\n",
        "def solve(A, b):                  #this function returns x, if Ax=b. This is assuming that no pivoting is needed for A\n",
        "  L, U=LU(A)                      #get L and U\n",
        "  Ux=np.zeros(len(A))             #Ax=b -> LUx=b, solve L(Ux)=b for Ux first \n",
        "  for i in range(0,len(A)):       #iterate from 0 to len(A)\n",
        "    Ux[i]=b[i]                    #set Ux at i to b at i\n",
        "    for j in range(0, i):         #subtract the previous terms of Ux multipled by the L coefficients\n",
        "      Ux[i]-=L[i,j]*Ux[j]\n",
        "  \n",
        "  x=np.zeros(len(A))\n",
        "  for i in reversed(range(0, len(A))):  #Solve for x given Ux and U\n",
        "    for j in range(i, len(A)):          #iterate through all the higher terms of x\n",
        "      x[i]+=U[i,j]*x[j]                 #sum up the U coefficients * the higher terms of x\n",
        "    x[i]=(Ux[i]-x[i])/U[i, i]           #the ith x is equal to (Ux[i] minus the sum) divided by the leading coefficient\n",
        "  \n",
        "  return  np.atleast_2d(x).T            #return a column vector with the solution\n",
        "\n",
        "\n",
        "\n"
      ],
      "execution_count": null,
      "outputs": []
    },
    {
      "cell_type": "code",
      "metadata": {
        "colab": {
          "base_uri": "https://localhost:8080/"
        },
        "id": "Ysx6BA3fKVmS",
        "outputId": "a4efc2b8-e504-4af1-bdcf-95415de8707f"
      },
      "source": [
        "\n",
        "mysolu= solve(matrix,b)                                 #call my solve function with matrix and b\n",
        "actualsolu = np.linalg.solve(matrix, b)                 #call built in linalg function\n",
        "print(\" My solution,    Actual solution,  difference\")\n",
        "print(np.concatenate((mysolu, actualsolu, abs(mysolu-actualsolu)),axis=1))# compare the two solutions"
      ],
      "execution_count": null,
      "outputs": [
        {
          "output_type": "stream",
          "text": [
            " My solution,    Actual solution,  difference\n",
            "[[3.72851307e+00 3.72851307e+00 2.22044605e-15]\n",
            " [3.61678469e+00 3.61678469e+00 1.33226763e-15]\n",
            " [3.26570222e+00 3.26570222e+00 8.88178420e-16]\n",
            " [2.62454228e+00 2.62454228e+00 4.44089210e-16]\n",
            " [1.59608112e+00 1.59608112e+00 0.00000000e+00]\n",
            " [4.53121747e+00 4.53121747e+00 2.66453526e-15]\n",
            " [4.39420655e+00 4.39420655e+00 1.77635684e-15]\n",
            " [3.96380736e+00 3.96380736e+00 8.88178420e-16]\n",
            " [3.17856138e+00 3.17856138e+00 0.00000000e+00]\n",
            " [1.92303806e+00 1.92303806e+00 0.00000000e+00]\n",
            " [5.09192914e+00 5.09192914e+00 3.55271368e-15]\n",
            " [4.93609116e+00 4.93609116e+00 4.44089210e-15]\n",
            " [4.44686142e+00 4.44686142e+00 1.77635684e-15]\n",
            " [3.55600627e+00 3.55600627e+00 0.00000000e+00]\n",
            " [2.13916659e+00 2.13916659e+00 4.44089210e-16]\n",
            " [5.42319947e+00 5.42319947e+00 2.66453526e-15]\n",
            " [5.25577302e+00 5.25577302e+00 3.55271368e-15]\n",
            " [4.73045728e+00 4.73045728e+00 8.88178420e-16]\n",
            " [3.77544601e+00 3.77544601e+00 4.44089210e-16]\n",
            " [2.26273741e+00 2.26273741e+00 0.00000000e+00]\n",
            " [5.53275410e+00 5.53275410e+00 4.44089210e-15]\n",
            " [5.36141798e+00 5.36141798e+00 3.55271368e-15]\n",
            " [4.82395165e+00 4.82395165e+00 0.00000000e+00]\n",
            " [3.84745153e+00 3.84745153e+00 8.88178420e-16]\n",
            " [2.30298450e+00 2.30298450e+00 4.44089210e-16]]\n"
          ],
          "name": "stdout"
        }
      ]
    }
  ]
}