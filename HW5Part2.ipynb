{
  "nbformat": 4,
  "nbformat_minor": 0,
  "metadata": {
    "colab": {
      "name": "HW5Part2.ipynb",
      "provenance": [],
      "collapsed_sections": [],
      "authorship_tag": "ABX9TyPRz+BdSnt3g6f9YSRiCckf",
      "include_colab_link": true
    },
    "kernelspec": {
      "name": "python3",
      "display_name": "Python 3"
    },
    "language_info": {
      "name": "python"
    }
  },
  "cells": [
    {
      "cell_type": "markdown",
      "metadata": {
        "id": "view-in-github",
        "colab_type": "text"
      },
      "source": [
        "<a href=\"https://colab.research.google.com/github/fengivan/382L-HW5/blob/master/HW5Part2.ipynb\" target=\"_parent\"><img src=\"https://colab.research.google.com/assets/colab-badge.svg\" alt=\"Open In Colab\"/></a>"
      ]
    },
    {
      "cell_type": "code",
      "metadata": {
        "id": "HMx0J2s_v3-0"
      },
      "source": [
        "import numpy as np\n",
        "import sys\n",
        "import math\n",
        "\n",
        "import matplotlib.pyplot as plt\n",
        "np.set_printoptions(linewidth=np.inf)\n",
        "np.set_printoptions(threshold=sys.maxsize)"
      ],
      "execution_count": null,
      "outputs": []
    },
    {
      "cell_type": "code",
      "metadata": {
        "id": "iVz8Szg_nLzC"
      },
      "source": [
        "#Code for Part 1, solver\n",
        "def LU(A):                        #this function returns L and U, where A=LU\n",
        "  A = A.astype(float)\n",
        "  L=np.identity(len(A))\n",
        "\n",
        "  for i in range(0,len(A)):       #iterate through diagonal elements, starting at row/column 0\n",
        "    for j in range(i+1, len(A)):  #iterate through rows below i\n",
        "      if A[j,i]!=0:               #if the row does not have a leading 0, make it 0\n",
        "        ratio=-A[j,i]/A[i,i]      #figure out what fraction of the ith row you need to add to the jth row so that the jth row will have a leading 0\n",
        "        L[j,i]=-ratio             #keep track what you multiplied by in the L matrix\n",
        "        A[j]=A[j]+A[i]*ratio      #the jth row becomes the jth row plus (ith row* ratio). The jth row now has a leading 0\n",
        " \n",
        "  return L, A                     #at the end of this process, L is a lower triangular matrix, and A has been changed to an upper triangular matrix.\n",
        "\n",
        "def solve(A, b):                  #this function returns x, if Ax=b. This is assuming that no pivoting is needed for A\n",
        "  L, U=LU(A)                      #get L and U\n",
        "  Ux=np.zeros(len(A))             #Ax=b -> LUx=b, solve L(Ux)=b for Ux first \n",
        "  for i in range(0,len(A)):       #iterate from 0 to len(A)\n",
        "    Ux[i]=b[i]                    #set Ux at i to b at i\n",
        "    for j in range(0, i):         #subtract the previous terms of Ux multipled by the L coefficients\n",
        "      Ux[i]-=L[i,j]*Ux[j]\n",
        "  \n",
        "  x=np.zeros(len(A))\n",
        "  for i in reversed(range(0, len(A))):  #Solve for x given Ux and U\n",
        "    for j in range(i, len(A)):          #iterate through all the higher terms of x\n",
        "      x[i]+=U[i,j]*x[j]                 #sum up the U coefficients * the higher terms of x\n",
        "    x[i]=(Ux[i]-x[i])/U[i, i]           #the ith x is equal to (Ux[i] minus the sum) divided by the leading coefficient\n",
        "  \n",
        "  return  np.atleast_2d(x).T            #return a column vector with the solution\n",
        "\n",
        "\n"
      ],
      "execution_count": null,
      "outputs": []
    },
    {
      "cell_type": "code",
      "metadata": {
        "id": "wDC461hSCdvj"
      },
      "source": [
        "def exact(x, y, t):                           #gives the exact solution to the function U(x,y,t)\n",
        "  return math.exp(-t)*(x**2+y**2)+1  \n",
        "  "
      ],
      "execution_count": null,
      "outputs": []
    },
    {
      "cell_type": "code",
      "metadata": {
        "id": "Eir5ylm4HoTZ"
      },
      "source": [
        "def solu(time, size):                               #returns a matrix with the exact solution at any time\n",
        "  deltax=1/(size-1)\n",
        "  deltay=1/(size-1)\n",
        "  out=np.zeros((size,size))                \n",
        "  for i in range(0,size):\n",
        "    for j in range(0,size):\n",
        "      out[i,j]=exact(i*deltax, j*deltay, time)\n",
        "  return out"
      ],
      "execution_count": null,
      "outputs": []
    },
    {
      "cell_type": "code",
      "metadata": {
        "id": "hP_TA55MQx6S"
      },
      "source": [
        "def getInitial(size):                         #set initial conditions for U(x,y,0). This function returns a size by size matrix with the values of U at every position\n",
        "  deltax=1/(size-1)                           #if size is 21, deltax is 1/20. grid positions range from 0,.05,.1,.15.....95,1\n",
        "  deltay=1/(size-1)\n",
        "  U=np.zeros((size,size))\n",
        "  U = U.astype(float)\n",
        "  for i in range(0,size):\n",
        "    for j in range(0,size):\n",
        "      U[i,j]=exact(i*deltax, j*deltay, 0)     #set U[i,j] to the exact solution\n",
        "\n",
        "  U=U.reshape(size*size,1)                    #reshape it from a matrix to a vector, U00,U01,U02,U03..U10,U11,U12.... \n",
        "\n",
        "  return U"
      ],
      "execution_count": null,
      "outputs": []
    },
    {
      "cell_type": "code",
      "metadata": {
        "id": "JXJepy4NC5xQ"
      },
      "source": [
        "def getA(r, g, size):                         #create the banded matrix for U(n+1) \n",
        "  A=np.identity(size)\n",
        "  A=np.concatenate((A,np.tile(np.zeros((size,size)), size-1)), axis=1)\n",
        "  \n",
        "  D=np.identity(size)\n",
        "  E=np.zeros((size, size))\n",
        "  zeros=0\n",
        "  \n",
        "  for i in range(1, size-1):\n",
        "    D[i, zeros]=r\n",
        "    D[i, zeros+1]=g\n",
        "    D[i, zeros+2]=r\n",
        "    E[i, zeros+1]=r\n",
        "    zeros+=1\n",
        "  \n",
        "  zeros=0\n",
        "  for i in range(0, size-2):\n",
        "    temp=np.concatenate((np.tile(np.zeros((size, size)),i),E,D,E,np.tile(np.zeros((size, size)),size-3-i)), axis=1)\n",
        "    A=np.concatenate((A,temp),axis=0)\n",
        "  \n",
        "  temp=np.concatenate((np.tile(np.zeros((size, size)),size-1), np.identity(size)), axis=1)\n",
        "\n",
        "  A=np.concatenate((A,temp), axis=0)\n",
        "  return A"
      ],
      "execution_count": null,
      "outputs": []
    },
    {
      "cell_type": "code",
      "metadata": {
        "id": "YH5owPH0BKCZ"
      },
      "source": [
        "def getB(r, g, size):                         #create the banded matrix for U(n)\n",
        "  A=np.zeros((size,size))\n",
        "  A=np.concatenate((A,np.tile(np.zeros((size,size)), size-1)), axis=1)\n",
        "  \n",
        "  D=np.zeros((size, size))\n",
        "  E=np.zeros((size, size))\n",
        "  zeros=0\n",
        "  \n",
        "  for i in range(1, size-1):\n",
        "    D[i, zeros]=r\n",
        "    D[i, zeros+1]=g\n",
        "    D[i, zeros+2]=r\n",
        "    E[i, zeros+1]=r\n",
        "    zeros+=1\n",
        "  \n",
        "  zeros=0\n",
        "  for i in range(0, size-2):\n",
        "    temp=np.concatenate((np.tile(np.zeros((size, size)),i),E,D,E,np.tile(np.zeros((size, size)),size-3-i)), axis=1)\n",
        "    A=np.concatenate((A,temp),axis=0)\n",
        "  \n",
        "  temp=np.concatenate((np.tile(np.zeros((size, size)),size-1), np.zeros((size, size))), axis=1)\n",
        "\n",
        "  A=np.concatenate((A,temp), axis=0)\n",
        "  return A"
      ],
      "execution_count": null,
      "outputs": []
    },
    {
      "cell_type": "code",
      "metadata": {
        "id": "U09-ok6qdc0G"
      },
      "source": [
        "def getC(n, size, deltat):                                          #create the vector of constants/boundry conditions\n",
        "  deltax=1/(size-1)\n",
        "  deltay=1/(size-1)\n",
        "  C=np.zeros((size,size))                                           #make C initially a matrix, reshape to vector later\n",
        "\n",
        "  for i in range(0, size):    \n",
        "    for j in range(0, size):\n",
        "      if  not (i ==0 or j==0 or i == size-1 or j == size -1):       #if i,i is not on a boundry (x=0,y=0,x=1,y=1)\n",
        "        C[i,j]=-math.exp(-n*deltat)*(4+(i*deltax)**2+(j*deltay)**2) #C[i,j] is equal to the differential term -e^(-t)*(4+x^2+y^2)\n",
        "      else:\n",
        "        C[i,j]=exact(i*deltax, j*deltay, n*deltat)                  #C[i,j] is equal to the exact boundry condition if i,j is on a boundry\n",
        "\n",
        "  return C.reshape(size*size,1)                                     #reshape C into a vector\n"
      ],
      "execution_count": null,
      "outputs": []
    },
    {
      "cell_type": "code",
      "metadata": {
        "id": "e96k17197K54"
      },
      "source": [
        "def getU(time):                               #returns U at the given time, using a 21x21 gird (x,y from 0 to 1 inclusive, deltax=deltay=1/20), deltat = .01\n",
        "  size=21                                     #set some parameters\n",
        "  deltax=1/(size-1)\n",
        "  deltat=.01\n",
        "  deltay=1/(size-1)\n",
        "\n",
        "\n",
        "  r=-1/(2*deltax**2)                          #coefficients\n",
        "  g=2/(deltax**2)+1/deltat\n",
        "  h=1/deltat-2/(deltax**2)\n",
        "\n",
        "  U=getInitial(size)                          #get the matricies\n",
        "  A=getA(r,g, size)\n",
        "  B=getB(-r,h,size)\n",
        "\n",
        "  for n in range(1, 1+round(time/deltat)):        #iterate through time from 0 to t=.2(n from 0 to 20)\n",
        "    C=getC(n, size, deltat)                     \n",
        "    lhs=np.matmul(B, U)+C                       #the left hand side of the system is B * U at n plus C\n",
        "    U=solve(A, lhs)                   #solve matrix equation Ax=lhs\n",
        "\n",
        "  U=U.reshape(size,size)                        #resize U to a size by size matrix\n",
        "\n",
        "\n",
        "  return U\n",
        "\n",
        "\n"
      ],
      "execution_count": null,
      "outputs": []
    },
    {
      "cell_type": "code",
      "metadata": {
        "id": "UIALEWf6BubM"
      },
      "source": [
        "exactfinal=solu(.2, 21)       #get exact and numerical solutions at t=.2 to compare\n",
        "numericalfinal=getU(.2)\n",
        "\n",
        "exactmid=solu(.1,21)          #get exact and numerical solutions at t=.1 to compare\n",
        "numericalmid=getU(.1)\n",
        "\n",
        "print(\"Numerical solution at T=.2\")        #compare error\n",
        "print(np.around((exactfinal), 5))\n",
        "\n",
        "\n",
        "print(\"Error of numerical solution at T=.2\")        #compare error\n",
        "print(np.around((numericalfinal-exactfinal),4))\n",
        "print(\"Error of numerical solution at T=.1\")\n",
        "print(np.around((numericalmid-exactmid),4))\n",
        "print(\"Numerical solution at T=.2\")\n",
        "plt.imshow(numericalfinal)        #plot numerical solution at t=.2\n",
        "plt.colorbar()\n",
        "plt.gca().invert_yaxis()\n",
        "plt.clim(1, 2.75)\n",
        "plt.show()\n",
        "print(\"Exact solution at T=.2\")\n",
        "plt.imshow(exactfinal)      #plot exact solution at t=.2\n",
        "plt.colorbar()\n",
        "plt.clim(1, 2.75)\n",
        "plt.gca().invert_yaxis()\n",
        "plt.show()\n",
        "print(\"Percent Error at T=.2\")\n",
        "plt.imshow(100*(numericalfinal-exactfinal)/exactfinal)      #plot percent error \n",
        "plt.colorbar()\n",
        "plt.gca().invert_yaxis()\n",
        "plt.show()\n"
      ],
      "execution_count": null,
      "outputs": []
    }
  ]
}