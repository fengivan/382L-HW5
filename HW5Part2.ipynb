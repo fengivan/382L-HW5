{
  "nbformat": 4,
  "nbformat_minor": 0,
  "metadata": {
    "colab": {
      "name": "HW5Part2.ipynb",
      "provenance": [],
      "collapsed_sections": [],
      "authorship_tag": "ABX9TyNfikaEUrn7hpXZspCtbCDT",
      "include_colab_link": true
    },
    "kernelspec": {
      "name": "python3",
      "display_name": "Python 3"
    },
    "language_info": {
      "name": "python"
    }
  },
  "cells": [
    {
      "cell_type": "markdown",
      "metadata": {
        "id": "view-in-github",
        "colab_type": "text"
      },
      "source": [
        "<a href=\"https://colab.research.google.com/github/fengivan/382L-HW5/blob/master/HW5Part2.ipynb\" target=\"_parent\"><img src=\"https://colab.research.google.com/assets/colab-badge.svg\" alt=\"Open In Colab\"/></a>"
      ]
    },
    {
      "cell_type": "code",
      "metadata": {
        "id": "HMx0J2s_v3-0"
      },
      "source": [
        "import numpy as np\n",
        "import sys\n",
        "import math\n",
        "import scipy.linalg as la\n",
        "import matplotlib.pyplot as plt\n",
        "np.set_printoptions(linewidth=np.inf)\n",
        "np.set_printoptions(threshold=sys.maxsize)"
      ],
      "execution_count": null,
      "outputs": []
    },
    {
      "cell_type": "code",
      "metadata": {
        "id": "wDC461hSCdvj"
      },
      "source": [
        "def exact(x, y, t):                           #gives the exact solution to the function U(x,y,t)\n",
        "  return math.exp(-t)*(x**2+y**2)+1  \n",
        "  "
      ],
      "execution_count": null,
      "outputs": []
    },
    {
      "cell_type": "code",
      "metadata": {
        "id": "Eir5ylm4HoTZ"
      },
      "source": [
        "def solu(time, size):                               #returns a matrix with the exact solution at any time\n",
        "  deltax=1/(size-1)\n",
        "  deltay=1/(size-1)\n",
        "  out=np.zeros((size,size))                \n",
        "  for i in range(0,size):\n",
        "    for j in range(0,size):\n",
        "      out[i,j]=exact(i*deltax, j*deltay, time)\n",
        "  return out"
      ],
      "execution_count": null,
      "outputs": []
    },
    {
      "cell_type": "code",
      "metadata": {
        "id": "hP_TA55MQx6S"
      },
      "source": [
        "def getInitial(size):                         #set initial conditions for U(x,y,0). This function returns a size by size matrix with the values of U at every position\n",
        "  deltax=1/(size-1)                           #if size is 21, deltax is 1/20. grid positions range from 0,.05,.1,.15.....95,1\n",
        "  deltay=1/(size-1)\n",
        "  U=np.zeros((size,size))\n",
        "  U = U.astype(float)\n",
        "  for i in range(0,size):\n",
        "    for j in range(0,size):\n",
        "      U[i,j]=exact(i*deltax, j*deltay, 0)     #set U[i,j] to the exact solution\n",
        "\n",
        "  U=U.reshape(size*size,1)                    #reshape it from a matrix to a vector, U00,U01,U02,U03..U10,U11,U12.... \n",
        "\n",
        "  return U"
      ],
      "execution_count": null,
      "outputs": []
    },
    {
      "cell_type": "code",
      "metadata": {
        "id": "JXJepy4NC5xQ"
      },
      "source": [
        "def getA(r, g, size):                         #create the banded matrix for U(n+1) \n",
        "  A=np.identity(size)\n",
        "  A=np.concatenate((A,np.tile(np.zeros((size,size)), size-1)), axis=1)\n",
        "  \n",
        "  D=np.identity(size)\n",
        "  E=np.zeros((size, size))\n",
        "  zeros=0\n",
        "  \n",
        "  for i in range(1, size-1):\n",
        "    D[i, zeros]=r\n",
        "    D[i, zeros+1]=g\n",
        "    D[i, zeros+2]=r\n",
        "    E[i, zeros+1]=r\n",
        "    zeros+=1\n",
        "  \n",
        "  zeros=0\n",
        "  for i in range(0, size-2):\n",
        "    temp=np.concatenate((np.tile(np.zeros((size, size)),i),E,D,E,np.tile(np.zeros((size, size)),size-3-i)), axis=1)\n",
        "    A=np.concatenate((A,temp),axis=0)\n",
        "  \n",
        "  temp=np.concatenate((np.tile(np.zeros((size, size)),size-1), np.identity(size)), axis=1)\n",
        "\n",
        "  A=np.concatenate((A,temp), axis=0)\n",
        "  return A"
      ],
      "execution_count": null,
      "outputs": []
    },
    {
      "cell_type": "code",
      "metadata": {
        "id": "YH5owPH0BKCZ"
      },
      "source": [
        "def getB(r, g, size):                         #create the banded matrix for U(n)\n",
        "  A=np.zeros((size,size))\n",
        "  A=np.concatenate((A,np.tile(np.zeros((size,size)), size-1)), axis=1)\n",
        "  \n",
        "  D=np.zeros((size, size))\n",
        "  E=np.zeros((size, size))\n",
        "  zeros=0\n",
        "  \n",
        "  for i in range(1, size-1):\n",
        "    D[i, zeros]=r\n",
        "    D[i, zeros+1]=g\n",
        "    D[i, zeros+2]=r\n",
        "    E[i, zeros+1]=r\n",
        "    zeros+=1\n",
        "  \n",
        "  zeros=0\n",
        "  for i in range(0, size-2):\n",
        "    temp=np.concatenate((np.tile(np.zeros((size, size)),i),E,D,E,np.tile(np.zeros((size, size)),size-3-i)), axis=1)\n",
        "    A=np.concatenate((A,temp),axis=0)\n",
        "  \n",
        "  temp=np.concatenate((np.tile(np.zeros((size, size)),size-1), np.zeros((size, size))), axis=1)\n",
        "\n",
        "  A=np.concatenate((A,temp), axis=0)\n",
        "  return A"
      ],
      "execution_count": null,
      "outputs": []
    },
    {
      "cell_type": "code",
      "metadata": {
        "id": "U09-ok6qdc0G"
      },
      "source": [
        "def getC(n, size, deltat):                                          #create the vector of constants/boundry conditions\n",
        "  deltax=1/(size-1)\n",
        "  deltay=1/(size-1)\n",
        "  C=np.zeros((size,size))                                           #make C initially a matrix, reshape to vector later\n",
        "\n",
        "  for i in range(0, size):    \n",
        "    for j in range(0, size):\n",
        "      if  not (i ==0 or j==0 or i == size-1 or j == size -1):       #if i,i is not on a boundry (x=0,y=0,x=1,y=1)\n",
        "        C[i,j]=-math.exp(-n*deltat)*(4+(i*deltax)**2+(j*deltay)**2) #C[i,j] is equal to the differential term -e^(-t)*(4+x^2+y^2)\n",
        "      else:\n",
        "        C[i,j]=exact(i*deltax, j*deltay, n*deltat)                  #C[i,j] is equal to the exact boundry condition if i,j is on a boundry\n",
        "\n",
        "  return C.reshape(size*size,1)                                     #reshape C into a vector\n"
      ],
      "execution_count": null,
      "outputs": []
    },
    {
      "cell_type": "code",
      "metadata": {
        "id": "e96k17197K54"
      },
      "source": [
        "def getU(time):                               #returns U at the given time, using a 21x21 gird (x,y from 0 to 1 inclusive, deltax=deltay=1/20), deltat = .01\n",
        "  size=21                                     #set some parameters\n",
        "  deltax=1/(size-1)\n",
        "  deltat=.01\n",
        "  deltay=1/(size-1)\n",
        "\n",
        "\n",
        "  r=-1/(2*deltax**2)                          #coefficients\n",
        "  g=2/(deltax**2)+1/deltat\n",
        "  h=1/deltat-2/(deltax**2)\n",
        "\n",
        "  U=getInitial(size)                          #get the matricies\n",
        "  A=getA(r,g, size)\n",
        "  B=getB(-r,h,size)\n",
        "\n",
        "  for n in range(1, 1+round(time/deltat)):        #iterate through time from 0 to t=.2(n from 0 to 20)\n",
        "    C=getC(n, size, deltat)                     \n",
        "    lhs=np.matmul(B, U)+C                       #the left hand side of the system is B * U at n plus C\n",
        "    U=np.linalg.solve(A, lhs)                   #solve matrix equation Ax=lhs\n",
        "\n",
        "  U=U.reshape(size,size)                        #resize U to a size by size matrix\n",
        "\n",
        "\n",
        "  return U\n",
        "\n",
        "\n"
      ],
      "execution_count": null,
      "outputs": []
    },
    {
      "cell_type": "code",
      "metadata": {
        "colab": {
          "base_uri": "https://localhost:8080/",
          "height": 1000
        },
        "id": "UIALEWf6BubM",
        "outputId": "a188323a-5e2e-44ae-e1f4-9299c5ea8203"
      },
      "source": [
        "exactfinal=solu(.2, 21)       #get exact and numerical solutions at t=.2 to compare\n",
        "numericalfinal=getU(.2)\n",
        "\n",
        "exactmid=solu(.1,21)          #get exact and numerical solutions at t=.1 to compare\n",
        "numericalmid=getU(.1)\n",
        "\n",
        "print(\"Numerical solution at T=.2\")        #compare error\n",
        "print(np.around((exactfinal), 5))\n",
        "\n",
        "\n",
        "print(\"Error of numerical solution at T=.2\")        #compare error\n",
        "print(np.around((numericalfinal-exactfinal),4))\n",
        "print(\"Error of numerical solution at T=.1\")\n",
        "print(np.around((numericalmid-exactmid),4))\n",
        "print(\"Numerical solution at T=.2\")\n",
        "plt.imshow(numericalfinal)        #plot numerical solution at t=.2\n",
        "plt.colorbar()\n",
        "plt.gca().invert_yaxis()\n",
        "plt.clim(1, 2.75)\n",
        "plt.show()\n",
        "print(\"Exact solution at T=.2\")\n",
        "plt.imshow(exactfinal)      #plot exact solution at t=.2\n",
        "plt.colorbar()\n",
        "plt.clim(1, 2.75)\n",
        "plt.gca().invert_yaxis()\n",
        "plt.show()\n",
        "print(\"Percent Error at T=.2\")\n",
        "plt.imshow(100*(numericalfinal-exactfinal)/exactfinal)      #plot percent error \n",
        "plt.colorbar()\n",
        "plt.gca().invert_yaxis()\n",
        "plt.show()\n"
      ],
      "execution_count": null,
      "outputs": [
        {
          "output_type": "stream",
          "text": [
            "Numerical solution at T=.2\n",
            "[[1.      1.00205 1.00819 1.01842 1.03275 1.05117 1.07369 1.10029 1.131   1.16579 1.20468 1.24767 1.29474 1.34591 1.40118 1.46054 1.52399 1.59153 1.66317 1.7389  1.81873]\n",
            " [1.00205 1.00409 1.01023 1.02047 1.0348  1.05322 1.07573 1.10234 1.13304 1.16784 1.20673 1.24971 1.29679 1.34796 1.40322 1.46258 1.52603 1.59358 1.66522 1.74095 1.82078]\n",
            " [1.00819 1.01023 1.01637 1.02661 1.04094 1.05936 1.08187 1.10848 1.13918 1.17398 1.21287 1.25585 1.30293 1.3541  1.40937 1.46872 1.53217 1.59972 1.67136 1.74709 1.82692]\n",
            " [1.01842 1.02047 1.02661 1.03684 1.05117 1.06959 1.09211 1.11872 1.14942 1.18421 1.2231  1.26609 1.31316 1.36434 1.4196  1.47896 1.54241 1.60995 1.68159 1.75733 1.83715]\n",
            " [1.03275 1.0348  1.04094 1.05117 1.0655  1.08392 1.10643 1.13304 1.16375 1.19854 1.23743 1.28042 1.32749 1.37866 1.43393 1.49329 1.55674 1.62428 1.69592 1.77165 1.85148]\n",
            " [1.05117 1.05322 1.05936 1.06959 1.08392 1.10234 1.12486 1.15147 1.18217 1.21696 1.25585 1.29884 1.34591 1.39708 1.45235 1.51171 1.57516 1.6427  1.71434 1.79008 1.8699 ]\n",
            " [1.07369 1.07573 1.08187 1.09211 1.10643 1.12486 1.14737 1.17398 1.20468 1.23948 1.27837 1.32135 1.36843 1.4196  1.47486 1.53422 1.59767 1.66522 1.73686 1.81259 1.89242]\n",
            " [1.10029 1.10234 1.10848 1.11872 1.13304 1.15147 1.17398 1.20059 1.23129 1.26609 1.30498 1.34796 1.39504 1.44621 1.50147 1.56083 1.62428 1.69183 1.76347 1.8392  1.91903]\n",
            " [1.131   1.13304 1.13918 1.14942 1.16375 1.18217 1.20468 1.23129 1.26199 1.29679 1.33568 1.37866 1.42574 1.47691 1.53217 1.59153 1.65498 1.72253 1.79417 1.8699  1.94973]\n",
            " [1.16579 1.16784 1.17398 1.18421 1.19854 1.21696 1.23948 1.26609 1.29679 1.33159 1.37048 1.41346 1.46054 1.51171 1.56697 1.62633 1.68978 1.75733 1.82896 1.9047  1.98452]\n",
            " [1.20468 1.20673 1.21287 1.2231  1.23743 1.25585 1.27837 1.30498 1.33568 1.37048 1.40937 1.45235 1.49943 1.5506  1.60586 1.66522 1.72867 1.79622 1.86785 1.94359 2.02341]\n",
            " [1.24767 1.24971 1.25585 1.26609 1.28042 1.29884 1.32135 1.34796 1.37866 1.41346 1.45235 1.49533 1.54241 1.59358 1.64884 1.7082  1.77165 1.8392  1.91084 1.98657 2.0664 ]\n",
            " [1.29474 1.29679 1.30293 1.31316 1.32749 1.34591 1.36843 1.39504 1.42574 1.46054 1.49943 1.54241 1.58949 1.64066 1.69592 1.75528 1.81873 1.88628 1.95791 2.03365 2.11347]\n",
            " [1.34591 1.34796 1.3541  1.36434 1.37866 1.39708 1.4196  1.44621 1.47691 1.51171 1.5506  1.59358 1.64066 1.69183 1.74709 1.80645 1.8699  1.93745 2.00909 2.08482 2.16464]\n",
            " [1.40118 1.40322 1.40937 1.4196  1.43393 1.45235 1.47486 1.50147 1.53217 1.56697 1.60586 1.64884 1.69592 1.74709 1.80236 1.86171 1.92517 1.99271 2.06435 2.14008 2.21991]\n",
            " [1.46054 1.46258 1.46872 1.47896 1.49329 1.51171 1.53422 1.56083 1.59153 1.62633 1.66522 1.7082  1.75528 1.80645 1.86171 1.92107 1.98452 2.05207 2.12371 2.19944 2.27927]\n",
            " [1.52399 1.52603 1.53217 1.54241 1.55674 1.57516 1.59767 1.62428 1.65498 1.68978 1.72867 1.77165 1.81873 1.8699  1.92517 1.98452 2.04798 2.11552 2.18716 2.26289 2.34272]\n",
            " [1.59153 1.59358 1.59972 1.60995 1.62428 1.6427  1.66522 1.69183 1.72253 1.75733 1.79622 1.8392  1.88628 1.93745 1.99271 2.05207 2.11552 2.18307 2.2547  2.33044 2.41026]\n",
            " [1.66317 1.66522 1.67136 1.68159 1.69592 1.71434 1.73686 1.76347 1.79417 1.82896 1.86785 1.91084 1.95791 2.00909 2.06435 2.12371 2.18716 2.2547  2.32634 2.40208 2.4819 ]\n",
            " [1.7389  1.74095 1.74709 1.75733 1.77165 1.79008 1.81259 1.8392  1.8699  1.9047  1.94359 1.98657 2.03365 2.08482 2.14008 2.19944 2.26289 2.33044 2.40208 2.47781 2.55764]\n",
            " [1.81873 1.82078 1.82692 1.83715 1.85148 1.8699  1.89242 1.91903 1.94973 1.98452 2.02341 2.0664  2.11347 2.16464 2.21991 2.27927 2.34272 2.41026 2.4819  2.55764 2.63746]]\n",
            "Error of numerical solution at T=.2\n",
            "[[ 0.      0.      0.     -0.      0.      0.     -0.      0.     -0.     -0.     -0.     -0.     -0.     -0.     -0.     -0.      0.     -0.      0.      0.      0.    ]\n",
            " [ 0.      0.0001  0.0001  0.0002  0.0002  0.0002  0.0002  0.0003  0.0003  0.0003  0.0003  0.0003  0.0003  0.0003  0.0003  0.0002  0.0002  0.0002  0.0001  0.0001  0.    ]\n",
            " [-0.      0.0001  0.0002  0.0003  0.0004  0.0004  0.0005  0.0005  0.0005  0.0005  0.0005  0.0005  0.0005  0.0005  0.0005  0.0005  0.0004  0.0003  0.0003  0.0001 -0.    ]\n",
            " [-0.      0.0002  0.0003  0.0004  0.0005  0.0006  0.0006  0.0007  0.0007  0.0007  0.0008  0.0007  0.0007  0.0007  0.0007  0.0006  0.0006  0.0005  0.0003  0.0002 -0.    ]\n",
            " [-0.      0.0002  0.0004  0.0005  0.0006  0.0007  0.0008  0.0008  0.0009  0.0009  0.0009  0.0009  0.0009  0.0009  0.0008  0.0008  0.0007  0.0006  0.0004  0.0002  0.    ]\n",
            " [ 0.      0.0002  0.0004  0.0006  0.0007  0.0008  0.0009  0.001   0.001   0.0011  0.0011  0.0011  0.0011  0.001   0.001   0.0009  0.0008  0.0006  0.0005  0.0003 -0.    ]\n",
            " [ 0.      0.0002  0.0005  0.0006  0.0008  0.0009  0.001   0.0011  0.0011  0.0012  0.0012  0.0012  0.0012  0.0011  0.0011  0.001   0.0008  0.0007  0.0005  0.0003  0.    ]\n",
            " [ 0.      0.0003  0.0005  0.0007  0.0008  0.001   0.0011  0.0012  0.0012  0.0013  0.0013  0.0013  0.0013  0.0012  0.0011  0.001   0.0009  0.0007  0.0005  0.0003  0.    ]\n",
            " [-0.      0.0003  0.0005  0.0007  0.0009  0.001   0.0011  0.0012  0.0013  0.0013  0.0014  0.0014  0.0013  0.0013  0.0012  0.0011  0.0009  0.0008  0.0006  0.0003 -0.    ]\n",
            " [ 0.      0.0003  0.0005  0.0007  0.0009  0.0011  0.0012  0.0013  0.0013  0.0014  0.0014  0.0014  0.0014  0.0013  0.0012  0.0011  0.001   0.0008  0.0006  0.0003  0.    ]\n",
            " [-0.      0.0003  0.0005  0.0008  0.0009  0.0011  0.0012  0.0013  0.0014  0.0014  0.0014  0.0014  0.0014  0.0013  0.0012  0.0011  0.001   0.0008  0.0006  0.0003 -0.    ]\n",
            " [ 0.      0.0003  0.0005  0.0007  0.0009  0.0011  0.0012  0.0013  0.0014  0.0014  0.0014  0.0014  0.0014  0.0013  0.0012  0.0011  0.001   0.0008  0.0006  0.0003  0.    ]\n",
            " [-0.      0.0003  0.0005  0.0007  0.0009  0.0011  0.0012  0.0013  0.0013  0.0014  0.0014  0.0014  0.0014  0.0013  0.0012  0.0011  0.001   0.0008  0.0006  0.0003 -0.    ]\n",
            " [-0.      0.0003  0.0005  0.0007  0.0009  0.001   0.0011  0.0012  0.0013  0.0013  0.0013  0.0013  0.0013  0.0013  0.0012  0.0011  0.0009  0.0008  0.0006  0.0003  0.    ]\n",
            " [ 0.      0.0003  0.0005  0.0007  0.0008  0.001   0.0011  0.0011  0.0012  0.0012  0.0012  0.0012  0.0012  0.0012  0.0011  0.001   0.0009  0.0007  0.0005  0.0003  0.    ]\n",
            " [ 0.      0.0002  0.0005  0.0006  0.0008  0.0009  0.001   0.001   0.0011  0.0011  0.0011  0.0011  0.0011  0.0011  0.001   0.0009  0.0008  0.0007  0.0005  0.0003  0.    ]\n",
            " [ 0.      0.0002  0.0004  0.0006  0.0007  0.0008  0.0008  0.0009  0.0009  0.001   0.001   0.001   0.001   0.0009  0.0009  0.0008  0.0007  0.0006  0.0004  0.0002 -0.    ]\n",
            " [ 0.      0.0002  0.0003  0.0005  0.0006  0.0006  0.0007  0.0007  0.0008  0.0008  0.0008  0.0008  0.0008  0.0008  0.0007  0.0007  0.0006  0.0005  0.0004  0.0002  0.    ]\n",
            " [-0.      0.0001  0.0003  0.0003  0.0004  0.0005  0.0005  0.0005  0.0006  0.0006  0.0006  0.0006  0.0006  0.0006  0.0005  0.0005  0.0004  0.0004  0.0003  0.0002 -0.    ]\n",
            " [ 0.      0.0001  0.0001  0.0002  0.0002  0.0003  0.0003  0.0003  0.0003  0.0003  0.0003  0.0003  0.0003  0.0003  0.0003  0.0003  0.0002  0.0002  0.0002  0.0001  0.    ]\n",
            " [ 0.      0.      0.      0.      0.      0.      0.      0.      0.      0.      0.      0.      0.      0.      0.      0.      0.      0.      0.      0.      0.    ]]\n",
            "Error of numerical solution at T=.1\n",
            "[[ 0.      0.     -0.     -0.      0.      0.      0.      0.     -0.     -0.     -0.     -0.     -0.     -0.     -0.     -0.     -0.     -0.     -0.      0.      0.    ]\n",
            " [ 0.      0.0001  0.0001  0.0002  0.0002  0.0002  0.0002  0.0003  0.0003  0.0003  0.0003  0.0003  0.0003  0.0003  0.0003  0.0002  0.0002  0.0002  0.0001  0.0001  0.    ]\n",
            " [-0.      0.0001  0.0002  0.0003  0.0004  0.0004  0.0005  0.0005  0.0005  0.0005  0.0005  0.0005  0.0005  0.0005  0.0005  0.0004  0.0004  0.0003  0.0003  0.0001 -0.    ]\n",
            " [ 0.      0.0002  0.0003  0.0004  0.0005  0.0006  0.0006  0.0007  0.0007  0.0007  0.0007  0.0007  0.0007  0.0007  0.0007  0.0006  0.0005  0.0005  0.0003  0.0002  0.    ]\n",
            " [-0.      0.0002  0.0004  0.0005  0.0006  0.0007  0.0008  0.0008  0.0009  0.0009  0.0009  0.0009  0.0009  0.0009  0.0008  0.0007  0.0007  0.0006  0.0004  0.0002  0.    ]\n",
            " [ 0.      0.0002  0.0004  0.0006  0.0007  0.0008  0.0009  0.0009  0.001   0.001   0.001   0.001   0.001   0.001   0.0009  0.0009  0.0008  0.0006  0.0005  0.0003 -0.    ]\n",
            " [ 0.      0.0002  0.0005  0.0006  0.0008  0.0009  0.001   0.001   0.0011  0.0011  0.0011  0.0011  0.0011  0.0011  0.001   0.0009  0.0008  0.0007  0.0005  0.0003  0.    ]\n",
            " [-0.      0.0003  0.0005  0.0007  0.0008  0.0009  0.001   0.0011  0.0012  0.0012  0.0012  0.0012  0.0012  0.0012  0.0011  0.001   0.0009  0.0007  0.0005  0.0003  0.    ]\n",
            " [-0.      0.0003  0.0005  0.0007  0.0009  0.001   0.0011  0.0012  0.0012  0.0013  0.0013  0.0013  0.0013  0.0012  0.0011  0.001   0.0009  0.0008  0.0006  0.0003  0.    ]\n",
            " [ 0.      0.0003  0.0005  0.0007  0.0009  0.001   0.0011  0.0012  0.0013  0.0013  0.0013  0.0013  0.0013  0.0012  0.0012  0.0011  0.0009  0.0008  0.0006  0.0003  0.    ]\n",
            " [-0.      0.0003  0.0005  0.0007  0.0009  0.001   0.0011  0.0012  0.0013  0.0013  0.0013  0.0013  0.0013  0.0013  0.0012  0.0011  0.001   0.0008  0.0006  0.0003  0.    ]\n",
            " [-0.      0.0003  0.0005  0.0007  0.0009  0.001   0.0011  0.0012  0.0013  0.0013  0.0013  0.0013  0.0013  0.0013  0.0012  0.0011  0.001   0.0008  0.0006  0.0003 -0.    ]\n",
            " [ 0.      0.0003  0.0005  0.0007  0.0009  0.001   0.0011  0.0012  0.0013  0.0013  0.0013  0.0013  0.0013  0.0012  0.0012  0.0011  0.0009  0.0008  0.0006  0.0003  0.    ]\n",
            " [-0.      0.0003  0.0005  0.0007  0.0009  0.001   0.0011  0.0012  0.0012  0.0012  0.0013  0.0013  0.0012  0.0012  0.0011  0.001   0.0009  0.0008  0.0006  0.0003 -0.    ]\n",
            " [-0.      0.0003  0.0005  0.0007  0.0008  0.0009  0.001   0.0011  0.0011  0.0012  0.0012  0.0012  0.0012  0.0011  0.0011  0.001   0.0009  0.0007  0.0005  0.0003  0.    ]\n",
            " [ 0.      0.0002  0.0004  0.0006  0.0007  0.0009  0.0009  0.001   0.001   0.0011  0.0011  0.0011  0.0011  0.001   0.001   0.0009  0.0008  0.0007  0.0005  0.0003  0.    ]\n",
            " [ 0.      0.0002  0.0004  0.0005  0.0007  0.0008  0.0008  0.0009  0.0009  0.0009  0.001   0.001   0.0009  0.0009  0.0009  0.0008  0.0007  0.0006  0.0004  0.0002 -0.    ]\n",
            " [-0.      0.0002  0.0003  0.0005  0.0006  0.0006  0.0007  0.0007  0.0008  0.0008  0.0008  0.0008  0.0008  0.0008  0.0007  0.0007  0.0006  0.0005  0.0004  0.0002  0.    ]\n",
            " [ 0.      0.0001  0.0003  0.0003  0.0004  0.0005  0.0005  0.0005  0.0006  0.0006  0.0006  0.0006  0.0006  0.0006  0.0005  0.0005  0.0004  0.0004  0.0003  0.0002 -0.    ]\n",
            " [ 0.      0.0001  0.0001  0.0002  0.0002  0.0003  0.0003  0.0003  0.0003  0.0003  0.0003  0.0003  0.0003  0.0003  0.0003  0.0003  0.0002  0.0002  0.0002  0.0001  0.    ]\n",
            " [ 0.      0.      0.      0.      0.      0.      0.      0.      0.      0.      0.      0.      0.      0.      0.      0.      0.      0.      0.      0.      0.    ]]\n",
            "Numerical solution at T=.2\n"
          ],
          "name": "stdout"
        },
        {
          "output_type": "display_data",
          "data": {
            "image/png": "[encoded data removed]",
            "text/plain": [
              "<Figure size 720x720 with 2 Axes>"
            ]
          },
          "metadata": {
            "tags": [],
            "needs_background": "light"
          }
        },
        {
          "output_type": "stream",
          "text": [
            "Exact solution at T=.2\n"
          ],
          "name": "stdout"
        },
        {
          "output_type": "display_data",
          "data": {
            "image/png": "[encoded data removed]",
            "text/plain": [
              "<Figure size 720x720 with 2 Axes>"
            ]
          },
          "metadata": {
            "tags": [],
            "needs_background": "light"
          }
        },
        {
          "output_type": "stream",
          "text": [
            "Percent Error at T=.2\n"
          ],
          "name": "stdout"
        },
        {
          "output_type": "display_data",
          "data": {
            "image/png": "[encoded data removed]",
            "text/plain": [
              "<Figure size 720x720 with 2 Axes>"
            ]
          },
          "metadata": {
            "tags": [],
            "needs_background": "light"
          }
        }
      ]
    }
  ]
}