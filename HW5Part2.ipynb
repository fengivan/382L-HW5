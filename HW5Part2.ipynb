{
  "nbformat": 4,
  "nbformat_minor": 0,
  "metadata": {
    "colab": {
      "name": "HW5Part2.ipynb",
      "provenance": [],
      "collapsed_sections": [],
      "authorship_tag": "ABX9TyNJytLN7vUL4cix3fW6cdCj",
      "include_colab_link": true
    },
    "kernelspec": {
      "name": "python3",
      "display_name": "Python 3"
    },
    "language_info": {
      "name": "python"
    }
  },
  "cells": [
    {
      "cell_type": "markdown",
      "metadata": {
        "id": "view-in-github",
        "colab_type": "text"
      },
      "source": [
        "<a href=\"https://colab.research.google.com/github/fengivan/382L-HW5/blob/master/HW5Part2.ipynb\" target=\"_parent\"><img src=\"https://colab.research.google.com/assets/colab-badge.svg\" alt=\"Open In Colab\"/></a>"
      ]
    },
    {
      "cell_type": "code",
      "metadata": {
        "id": "HMx0J2s_v3-0"
      },
      "source": [
        "import numpy as np\n",
        "import sys\n",
        "import math\n",
        "import scipy.linalg as la\n",
        "import matplotlib.pyplot as plt\n",
        "np.set_printoptions(linewidth=np.inf)\n",
        "np.set_printoptions(threshold=sys.maxsize)"
      ],
      "execution_count": 311,
      "outputs": []
    },
    {
      "cell_type": "code",
      "metadata": {
        "id": "wDC461hSCdvj"
      },
      "source": [
        "def exact(x, y, t):                           #gives the exact solution to the function U(x,y,t)\n",
        "  return math.exp(-t)*(x**2+y**2)+1  \n",
        "  "
      ],
      "execution_count": 312,
      "outputs": []
    },
    {
      "cell_type": "code",
      "metadata": {
        "id": "Eir5ylm4HoTZ"
      },
      "source": [
        "def solu(time, size):                               #returns a matrix with the exact solution at any time\n",
        "  deltax=1/(size-1)\n",
        "  deltay=1/(size-1)\n",
        "  out=np.zeros((size,size))                \n",
        "  for i in range(0,size):\n",
        "    for j in range(0,size):\n",
        "      out[i,j]=exact(i*deltax, j*deltay, time)\n",
        "  return out"
      ],
      "execution_count": null,
      "outputs": []
    },
    {
      "cell_type": "code",
      "metadata": {
        "id": "hP_TA55MQx6S"
      },
      "source": [
        "def getInitial(size):                         #set initial conditions for U(x,y,0). This function returns a size by size matrix with the values of U at every position\n",
        "  deltax=1/(size-1)                           #if size is 21, deltax is 1/20. grid positions range from 0,.05,.1,.15.....95,1\n",
        "  deltay=1/(size-1)\n",
        "  U=np.zeros((size,size))\n",
        "  U = U.astype(float)\n",
        "  for i in range(0,size):\n",
        "    for j in range(0,size):\n",
        "      U[i,j]=exact(i*deltax, j*deltay, 0)     #set U[i,j] to the exact solution\n",
        "\n",
        "  U=U.reshape(size*size,1)                    #reshape it from a matrix to a vector, U00,U01,U02,U03..U10,U11,U12.... \n",
        "\n",
        "  return U"
      ],
      "execution_count": 313,
      "outputs": []
    },
    {
      "cell_type": "code",
      "metadata": {
        "id": "JXJepy4NC5xQ"
      },
      "source": [
        "def getA(r, g, size):                         #create the banded matrix for U(n+1) \n",
        "  A=np.identity(size)\n",
        "  A=np.concatenate((A,np.tile(np.zeros((size,size)), size-1)), axis=1)\n",
        "  \n",
        "  D=np.identity(size)\n",
        "  E=np.zeros((size, size))\n",
        "  zeros=0\n",
        "  \n",
        "  for i in range(1, size-1):\n",
        "    D[i, zeros]=r\n",
        "    D[i, zeros+1]=g\n",
        "    D[i, zeros+2]=r\n",
        "    E[i, zeros+1]=r\n",
        "    zeros+=1\n",
        "  \n",
        "  zeros=0\n",
        "  for i in range(0, size-2):\n",
        "    temp=np.concatenate((np.tile(np.zeros((size, size)),i),E,D,E,np.tile(np.zeros((size, size)),size-3-i)), axis=1)\n",
        "    A=np.concatenate((A,temp),axis=0)\n",
        "  \n",
        "  temp=np.concatenate((np.tile(np.zeros((size, size)),size-1), np.identity(size)), axis=1)\n",
        "\n",
        "  A=np.concatenate((A,temp), axis=0)\n",
        "  return A"
      ],
      "execution_count": 314,
      "outputs": []
    },
    {
      "cell_type": "code",
      "metadata": {
        "id": "YH5owPH0BKCZ"
      },
      "source": [
        "def getB(r, g, size):                         #create the banded matrix for U(n)\n",
        "  A=np.zeros((size,size))\n",
        "  A=np.concatenate((A,np.tile(np.zeros((size,size)), size-1)), axis=1)\n",
        "  \n",
        "  D=np.zeros((size, size))\n",
        "  E=np.zeros((size, size))\n",
        "  zeros=0\n",
        "  \n",
        "  for i in range(1, size-1):\n",
        "    D[i, zeros]=r\n",
        "    D[i, zeros+1]=g\n",
        "    D[i, zeros+2]=r\n",
        "    E[i, zeros+1]=r\n",
        "    zeros+=1\n",
        "  \n",
        "  zeros=0\n",
        "  for i in range(0, size-2):\n",
        "    temp=np.concatenate((np.tile(np.zeros((size, size)),i),E,D,E,np.tile(np.zeros((size, size)),size-3-i)), axis=1)\n",
        "    A=np.concatenate((A,temp),axis=0)\n",
        "  \n",
        "  temp=np.concatenate((np.tile(np.zeros((size, size)),size-1), np.zeros((size, size))), axis=1)\n",
        "\n",
        "  A=np.concatenate((A,temp), axis=0)\n",
        "  return A"
      ],
      "execution_count": 340,
      "outputs": []
    },
    {
      "cell_type": "code",
      "metadata": {
        "id": "U09-ok6qdc0G"
      },
      "source": [
        "def getC(n, size, deltat):                                          #create the vector of constants/boundry conditions\n",
        "  deltax=1/(size-1)\n",
        "  deltay=1/(size-1)\n",
        "  C=np.zeros((size,size))                                           #make C initially a matrix, reshape to vector later\n",
        "\n",
        "  for i in range(0, size):    \n",
        "    for j in range(0, size):\n",
        "      if  not (i ==0 or j==0 or i == size-1 or j == size -1):       #if i,i is not on a boundry (x=0,y=0,x=1,y=1)\n",
        "        C[i,j]=-math.exp(-n*deltat)*(4+(i*deltax)**2+(j*deltay)**2) #C[i,j] is equal to the differential term -e^(-t)*(4+x^2+y^2)\n",
        "      else:\n",
        "        C[i,j]=exact(i*deltax, j*deltay, n*deltat)                  #C[i,j] is equal to the exact boundry condition if i,j is on a boundry\n",
        "\n",
        "  return C.reshape(size*size,1)                                     #reshape C into a vector\n"
      ],
      "execution_count": 341,
      "outputs": []
    },
    {
      "cell_type": "code",
      "metadata": {
        "id": "e96k17197K54"
      },
      "source": [
        "def getU(time):                               #returns U at the given time, using a 21x21 gird (x,y from 0 to 1 inclusive, deltax=deltay=1/20), deltat = .01\n",
        "  size=21                                     #set some parameters\n",
        "  deltax=1/(size-1)\n",
        "  deltat=.01\n",
        "  deltay=1/(size-1)\n",
        "\n",
        "\n",
        "  r=-1/(2*deltax**2)                          #coefficients\n",
        "  g=2/(deltax**2)+1/deltat\n",
        "  h=1/deltat-2/(deltax**2)\n",
        "\n",
        "  U=getInitial(size)                          #get the matricies\n",
        "  A=getA(r,g, size)\n",
        "  B=getB(-r,h,size)\n",
        "\n",
        "  for n in range(0, round(time/deltat)):        #iterate through time from 0 to t=.2(n from 0 to 20)\n",
        "    C=getC(n, size, deltat)                     \n",
        "    lhs=np.matmul(B, U)+C                       #the left hand side of the system is B * U at n plus C\n",
        "    U=np.linalg.solve(A, lhs)                   #solve matrix equation Ax=lhs\n",
        "\n",
        "  U=U.reshape(size,size)                        #resize U to a size by size matrix\n",
        "\n",
        "\n",
        "  return U\n",
        "\n",
        "\n"
      ],
      "execution_count": 371,
      "outputs": []
    },
    {
      "cell_type": "code",
      "metadata": {
        "colab": {
          "base_uri": "https://localhost:8080/",
          "height": 1000
        },
        "id": "UIALEWf6BubM",
        "outputId": "2ddc135f-aae5-4f12-ee3d-e237d4dacfd2"
      },
      "source": [
        "exactfinal=solu(.2, 21)       #get exact and numerical solutions at t=.2 to compare\n",
        "numericalfinal=getU(.2)\n",
        "\n",
        "exactmid=solu(.1,21)          #get exact and numerical solutions at t=.1 to compare\n",
        "numericalmid=getU(.1)\n",
        "\n",
        "print(\"Error of numerical solution at T=.2\")        #compare error\n",
        "print(np.around((numericalfinal-exactfinal),4))\n",
        "print(\"Error of numerical solution at T=.1\")\n",
        "print(np.around((numericalmid-exactmid),4))\n",
        "print(\"Numerical solution at T=.2\")\n",
        "plt.imshow(numericalfinal)        #plot numerical solution at t=.2\n",
        "plt.colorbar()\n",
        "plt.gca().invert_yaxis()\n",
        "plt.clim(1, 2.75)\n",
        "plt.show()\n",
        "print(\"Exact solution at T=.2\")\n",
        "plt.imshow(exactfinal)      #plot exact solution at t=.2\n",
        "plt.colorbar()\n",
        "plt.clim(1, 2.75)\n",
        "plt.gca().invert_yaxis()\n",
        "plt.show()\n",
        "print(\"Percent Error at T=.2\")\n",
        "plt.imshow(100*(numericalfinal-exactfinal)/exactfinal)      #plot percent error \n",
        "plt.colorbar()\n",
        "plt.gca().invert_yaxis()\n",
        "plt.show()\n"
      ],
      "execution_count": 397,
      "outputs": [
        {
          "output_type": "stream",
          "text": [
            "Error of numerical solution at T=.2\n",
            "[[0.     0.     0.0001 0.0002 0.0003 0.0005 0.0007 0.001  0.0013 0.0017 0.0021 0.0025 0.003  0.0035 0.004  0.0046 0.0053 0.0059 0.0067 0.0074 0.0082]\n",
            " [0.     0.0001 0.0002 0.0004 0.0005 0.0007 0.001  0.0013 0.0016 0.0019 0.0023 0.0028 0.0032 0.0037 0.0043 0.0049 0.0055 0.0061 0.0068 0.0075 0.0082]\n",
            " [0.0001 0.0002 0.0004 0.0005 0.0007 0.001  0.0012 0.0015 0.0019 0.0022 0.0026 0.0031 0.0035 0.004  0.0046 0.0051 0.0057 0.0063 0.007  0.0076 0.0083]\n",
            " [0.0002 0.0004 0.0005 0.0008 0.001  0.0012 0.0015 0.0018 0.0021 0.0025 0.0029 0.0033 0.0038 0.0043 0.0048 0.0054 0.006  0.0066 0.0072 0.0078 0.0084]\n",
            " [0.0003 0.0005 0.0007 0.001  0.0012 0.0015 0.0018 0.0021 0.0024 0.0028 0.0032 0.0036 0.0041 0.0046 0.0051 0.0056 0.0062 0.0068 0.0074 0.008  0.0086]\n",
            " [0.0005 0.0007 0.001  0.0012 0.0015 0.0018 0.0021 0.0024 0.0027 0.0031 0.0035 0.0039 0.0044 0.0049 0.0054 0.0059 0.0065 0.007  0.0076 0.0082 0.0087]\n",
            " [0.0007 0.001  0.0012 0.0015 0.0018 0.0021 0.0024 0.0027 0.003  0.0034 0.0038 0.0043 0.0047 0.0052 0.0057 0.0062 0.0068 0.0073 0.0079 0.0084 0.009 ]\n",
            " [0.001  0.0013 0.0015 0.0018 0.0021 0.0024 0.0027 0.003  0.0034 0.0038 0.0042 0.0046 0.0051 0.0055 0.006  0.0065 0.0071 0.0076 0.0082 0.0087 0.0092]\n",
            " [0.0013 0.0016 0.0019 0.0021 0.0024 0.0027 0.003  0.0034 0.0038 0.0041 0.0045 0.005  0.0054 0.0059 0.0064 0.0069 0.0074 0.008  0.0085 0.009  0.0095]\n",
            " [0.0017 0.0019 0.0022 0.0025 0.0028 0.0031 0.0034 0.0038 0.0041 0.0045 0.0049 0.0054 0.0058 0.0063 0.0068 0.0073 0.0078 0.0083 0.0088 0.0094 0.0099]\n",
            " [0.0021 0.0023 0.0026 0.0029 0.0032 0.0035 0.0038 0.0042 0.0045 0.0049 0.0053 0.0058 0.0062 0.0067 0.0072 0.0077 0.0082 0.0087 0.0092 0.0098 0.0103]\n",
            " [0.0025 0.0028 0.0031 0.0033 0.0036 0.0039 0.0043 0.0046 0.005  0.0054 0.0058 0.0062 0.0066 0.0071 0.0076 0.0081 0.0086 0.0092 0.0097 0.0102 0.0107]\n",
            " [0.003  0.0032 0.0035 0.0038 0.0041 0.0044 0.0047 0.0051 0.0054 0.0058 0.0062 0.0066 0.0071 0.0076 0.0081 0.0086 0.0091 0.0096 0.0101 0.0107 0.0112]\n",
            " [0.0035 0.0037 0.004  0.0043 0.0046 0.0049 0.0052 0.0055 0.0059 0.0063 0.0067 0.0071 0.0076 0.008  0.0085 0.0091 0.0096 0.0101 0.0106 0.0112 0.0117]\n",
            " [0.004  0.0043 0.0046 0.0048 0.0051 0.0054 0.0057 0.006  0.0064 0.0068 0.0072 0.0076 0.0081 0.0085 0.009  0.0096 0.0101 0.0106 0.0112 0.0117 0.0123]\n",
            " [0.0046 0.0049 0.0051 0.0054 0.0056 0.0059 0.0062 0.0065 0.0069 0.0073 0.0077 0.0081 0.0086 0.0091 0.0096 0.0101 0.0106 0.0112 0.0117 0.0123 0.0129]\n",
            " [0.0053 0.0055 0.0057 0.006  0.0062 0.0065 0.0068 0.0071 0.0074 0.0078 0.0082 0.0086 0.0091 0.0096 0.0101 0.0106 0.0112 0.0118 0.0123 0.0129 0.0135]\n",
            " [0.0059 0.0061 0.0063 0.0066 0.0068 0.007  0.0073 0.0076 0.008  0.0083 0.0087 0.0092 0.0096 0.0101 0.0106 0.0112 0.0118 0.0123 0.013  0.0136 0.0142]\n",
            " [0.0067 0.0068 0.007  0.0072 0.0074 0.0076 0.0079 0.0082 0.0085 0.0088 0.0092 0.0097 0.0101 0.0106 0.0112 0.0117 0.0123 0.013  0.0136 0.0142 0.0149]\n",
            " [0.0074 0.0075 0.0076 0.0078 0.008  0.0082 0.0084 0.0087 0.009  0.0094 0.0098 0.0102 0.0107 0.0112 0.0117 0.0123 0.0129 0.0136 0.0142 0.0149 0.0157]\n",
            " [0.0082 0.0082 0.0083 0.0084 0.0086 0.0087 0.009  0.0092 0.0095 0.0099 0.0103 0.0107 0.0112 0.0117 0.0123 0.0129 0.0135 0.0142 0.0149 0.0157 0.0165]]\n",
            "Error of numerical solution at T=.1\n",
            "[[0.     0.     0.0001 0.0002 0.0004 0.0006 0.0008 0.0011 0.0015 0.0018 0.0023 0.0028 0.0033 0.0038 0.0045 0.0051 0.0058 0.0066 0.0074 0.0082 0.0091]\n",
            " [0.     0.0001 0.0002 0.0003 0.0005 0.0007 0.0009 0.0012 0.0015 0.0019 0.0024 0.0028 0.0034 0.0039 0.0046 0.0052 0.0059 0.0067 0.0075 0.0083 0.0091]\n",
            " [0.0001 0.0002 0.0003 0.0004 0.0006 0.0008 0.001  0.0013 0.0016 0.002  0.0024 0.0029 0.0034 0.004  0.0047 0.0053 0.006  0.0068 0.0076 0.0084 0.0092]\n",
            " [0.0002 0.0003 0.0004 0.0005 0.0007 0.0009 0.0011 0.0014 0.0017 0.0021 0.0025 0.003  0.0036 0.0041 0.0048 0.0055 0.0062 0.0069 0.0077 0.0085 0.0093]\n",
            " [0.0004 0.0005 0.0006 0.0007 0.0009 0.001  0.0013 0.0015 0.0019 0.0022 0.0027 0.0032 0.0037 0.0043 0.0049 0.0056 0.0063 0.0071 0.0079 0.0087 0.0095]\n",
            " [0.0006 0.0007 0.0008 0.0009 0.001  0.0012 0.0014 0.0017 0.002  0.0024 0.0028 0.0033 0.0039 0.0044 0.0051 0.0058 0.0065 0.0073 0.0081 0.0089 0.0097]\n",
            " [0.0008 0.0009 0.001  0.0011 0.0013 0.0014 0.0017 0.0019 0.0022 0.0026 0.003  0.0035 0.0041 0.0047 0.0053 0.006  0.0067 0.0075 0.0083 0.0091 0.0099]\n",
            " [0.0011 0.0012 0.0013 0.0014 0.0015 0.0017 0.0019 0.0022 0.0025 0.0029 0.0033 0.0038 0.0043 0.0049 0.0056 0.0063 0.007  0.0078 0.0086 0.0094 0.0102]\n",
            " [0.0015 0.0015 0.0016 0.0017 0.0019 0.002  0.0022 0.0025 0.0028 0.0032 0.0036 0.0041 0.0046 0.0052 0.0059 0.0066 0.0073 0.0081 0.0089 0.0097 0.0105]\n",
            " [0.0018 0.0019 0.002  0.0021 0.0022 0.0024 0.0026 0.0029 0.0032 0.0035 0.0039 0.0044 0.005  0.0056 0.0062 0.0069 0.0077 0.0085 0.0093 0.0101 0.0109]\n",
            " [0.0023 0.0024 0.0024 0.0025 0.0027 0.0028 0.003  0.0033 0.0036 0.0039 0.0044 0.0048 0.0054 0.006  0.0067 0.0074 0.0081 0.0089 0.0097 0.0106 0.0114]\n",
            " [0.0028 0.0028 0.0029 0.003  0.0032 0.0033 0.0035 0.0038 0.0041 0.0044 0.0048 0.0053 0.0059 0.0065 0.0071 0.0079 0.0086 0.0094 0.0102 0.011  0.0118]\n",
            " [0.0033 0.0034 0.0034 0.0036 0.0037 0.0039 0.0041 0.0043 0.0046 0.005  0.0054 0.0059 0.0064 0.007  0.0077 0.0084 0.0091 0.0099 0.0107 0.0116 0.0124]\n",
            " [0.0038 0.0039 0.004  0.0041 0.0043 0.0044 0.0047 0.0049 0.0052 0.0056 0.006  0.0065 0.007  0.0076 0.0083 0.009  0.0097 0.0105 0.0113 0.0121 0.0129]\n",
            " [0.0045 0.0046 0.0047 0.0048 0.0049 0.0051 0.0053 0.0056 0.0059 0.0062 0.0067 0.0071 0.0077 0.0083 0.0089 0.0096 0.0104 0.0112 0.0119 0.0128 0.0135]\n",
            " [0.0051 0.0052 0.0053 0.0055 0.0056 0.0058 0.006  0.0063 0.0066 0.0069 0.0074 0.0079 0.0084 0.009  0.0096 0.0103 0.0111 0.0118 0.0126 0.0134 0.0142]\n",
            " [0.0058 0.0059 0.006  0.0062 0.0063 0.0065 0.0067 0.007  0.0073 0.0077 0.0081 0.0086 0.0091 0.0097 0.0104 0.0111 0.0118 0.0126 0.0133 0.0141 0.0149]\n",
            " [0.0066 0.0067 0.0068 0.0069 0.0071 0.0073 0.0075 0.0078 0.0081 0.0085 0.0089 0.0094 0.0099 0.0105 0.0112 0.0118 0.0126 0.0133 0.0141 0.0149 0.0157]\n",
            " [0.0074 0.0075 0.0076 0.0077 0.0079 0.0081 0.0083 0.0086 0.0089 0.0093 0.0097 0.0102 0.0107 0.0113 0.0119 0.0126 0.0133 0.0141 0.0148 0.0157 0.0165]\n",
            " [0.0082 0.0083 0.0084 0.0085 0.0087 0.0089 0.0091 0.0094 0.0097 0.0101 0.0106 0.011  0.0116 0.0121 0.0128 0.0134 0.0141 0.0149 0.0157 0.0165 0.0173]\n",
            " [0.0091 0.0091 0.0092 0.0093 0.0095 0.0097 0.0099 0.0102 0.0105 0.0109 0.0114 0.0118 0.0124 0.0129 0.0135 0.0142 0.0149 0.0157 0.0165 0.0173 0.0182]]\n",
            "Numerical solution at T=.2\n"
          ],
          "name": "stdout"
        },
        {
          "output_type": "display_data",
          "data": {
            "image/png": "[encoded data removed]",
            "text/plain": [
              "<Figure size 720x720 with 2 Axes>"
            ]
          },
          "metadata": {
            "tags": [],
            "needs_background": "light"
          }
        },
        {
          "output_type": "stream",
          "text": [
            "Exact solution at T=.2\n"
          ],
          "name": "stdout"
        },
        {
          "output_type": "display_data",
          "data": {
            "image/png": "[encoded data removed]",
            "text/plain": [
              "<Figure size 720x720 with 2 Axes>"
            ]
          },
          "metadata": {
            "tags": [],
            "needs_background": "light"
          }
        },
        {
          "output_type": "stream",
          "text": [
            "Percent Error at T=.2\n"
          ],
          "name": "stdout"
        },
        {
          "output_type": "display_data",
          "data": {
            "image/png": "[encoded data removed]",
            "text/plain": [
              "<Figure size 720x720 with 2 Axes>"
            ]
          },
          "metadata": {
            "tags": [],
            "needs_background": "light"
          }
        }
      ]
    }
  ]
}